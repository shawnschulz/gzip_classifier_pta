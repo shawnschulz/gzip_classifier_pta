{
 "cells": [
  {
   "cell_type": "code",
   "execution_count": 7,
   "metadata": {},
   "outputs": [
    {
     "name": "stdout",
     "output_type": "stream",
     "text": [
      "Collecting biopython\n",
      "  Downloading biopython-1.81-cp39-cp39-macosx_10_9_x86_64.whl (2.7 MB)\n",
      "\u001b[K     |████████████████████████████████| 2.7 MB 4.4 MB/s eta 0:00:01\n",
      "\u001b[?25hRequirement already satisfied: numpy in /Users/shawnschulz/miniconda3/lib/python3.9/site-packages (from biopython) (1.23.5)\n",
      "Installing collected packages: biopython\n",
      "Successfully installed biopython-1.81\n"
     ]
    }
   ],
   "source": [
    "!pip install biopython"
   ]
  },
  {
   "cell_type": "code",
   "execution_count": 8,
   "metadata": {},
   "outputs": [],
   "source": [
    "import gzip\n",
    "import numpy as np\n",
    "from Bio import SeqIO"
   ]
  },
  {
   "cell_type": "markdown",
   "metadata": {},
   "source": [
    "Create test set and training set"
   ]
  },
  {
   "cell_type": "code",
   "execution_count": null,
   "metadata": {},
   "outputs": [],
   "source": [
    "test_set_filenames = []\n",
    "training_set_filenames = []\n",
    "test_set = [] #should be list of strings with purely genetic code (prob just put tumor cell genomes in here), also make sure uncompressed\n",
    "training_set = [] #should be list of strings with genetic code with known categories (cancer, normal, artifact), also make sure uncompressed\n",
    "\n",
    "counter = 0 \n",
    "for input_file in test_set_filenames:\n",
    "    fasta_sequences = SeqIO.parse(open(input_file),'fasta')\n",
    "    if counter == 0:\n",
    "        for fasta in fasta_sequences:\n",
    "            name, sequence = fasta.id, str(fasta.seq)\n",
    "            test_set.append(sequence)"
   ]
  },
  {
   "cell_type": "markdown",
   "metadata": {},
   "source": [
    "Perform Classification"
   ]
  },
  {
   "cell_type": "code",
   "execution_count": null,
   "metadata": {},
   "outputs": [],
   "source": [
    "k = 3\n",
    "\n",
    "for (x1, _) in test_set:\n",
    "     Cx1 = len(gzip.compress(x1.encode()))\n",
    "     distance_from_x1 = []\n",
    "     for (x2, _) in training_set:\n",
    "          Cx2 = len(gzip.compress(x2.encode()))\n",
    "          x1x2 = \" \".join([x1, x2])\n",
    "          Cx1x2 = len(gzip.compress(x1x2.encode()))\n",
    "          ncd = (Cx1x2 - min(Cx1, Cx2)) / max(Cx1, Cx2)\n",
    "          distance_from_x1.append(ncd)\n",
    "          sorted_idx = np.argsort(np.array(distance_from_x1))\n",
    "          top_k_class = training_set[sorted_idx[:k], 1]\n",
    "          predict_class = max(set(top_k_class), key=top_k_class.count)"
   ]
  }
 ],
 "metadata": {
  "kernelspec": {
   "display_name": "base",
   "language": "python",
   "name": "python3"
  },
  "language_info": {
   "codemirror_mode": {
    "name": "ipython",
    "version": 3
   },
   "file_extension": ".py",
   "mimetype": "text/x-python",
   "name": "python",
   "nbconvert_exporter": "python",
   "pygments_lexer": "ipython3",
   "version": "3.9.16"
  },
  "orig_nbformat": 4
 },
 "nbformat": 4,
 "nbformat_minor": 2
}
